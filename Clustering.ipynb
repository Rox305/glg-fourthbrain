{
  "nbformat": 4,
  "nbformat_minor": 0,
  "metadata": {
    "colab": {
      "name": "Clustering.ipynb",
      "provenance": []
    },
    "kernelspec": {
      "name": "python3",
      "display_name": "Python 3"
    },
    "language_info": {
      "name": "python"
    }
  },
  "cells": [
    {
      "cell_type": "code",
      "metadata": {
        "id": "ynAywDlF4QVy"
      },
      "source": [
        "v = np.load('vectores')"
      ],
      "execution_count": null,
      "outputs": []
    },
    {
      "cell_type": "markdown",
      "metadata": {
        "id": "Sq2y4lgR4qHa"
      },
      "source": [
        "## Calculate distance matrix "
      ]
    },
    {
      "cell_type": "code",
      "metadata": {
        "id": "jY69KJxQ4U3e"
      },
      "source": [
        "import sklearn.metrics\n",
        "distmat=sklearn.metrics.pairwise.cosine_distances(v, Y=None)"
      ],
      "execution_count": null,
      "outputs": []
    },
    {
      "cell_type": "markdown",
      "metadata": {
        "id": "rQ_SJEDa4hHY"
      },
      "source": [
        "## Clustering model "
      ]
    },
    {
      "cell_type": "code",
      "metadata": {
        "id": "LSy3t_Jo4YOb"
      },
      "source": [
        "from sklearn.cluster import AgglomerativeClustering\n",
        "clustering = AgglomerativeClustering(n_clusters=None, distance_threshold=.6, affinity='precomputed', linkage='complete').fit(distmat)"
      ],
      "execution_count": null,
      "outputs": []
    },
    {
      "cell_type": "code",
      "metadata": {
        "id": "Sdbmi8Wq5aNY"
      },
      "source": [
        "import pickle\n",
        "pickle.dump(clustering, open(\"savehclust.pkl\", \"wb\"))\n",
        "# clt = pickle.load(open(\"save.pkl\", \"rb\"))"
      ],
      "execution_count": null,
      "outputs": []
    },
    {
      "cell_type": "markdown",
      "metadata": {
        "id": "3T5OKaaX5a7H"
      },
      "source": [
        "## Dendrogram plotting\n"
      ]
    },
    {
      "cell_type": "code",
      "metadata": {
        "id": "cZj6MqrB5D1h"
      },
      "source": [
        "from scipy.cluster.hierarchy import dendrogram\n",
        "def plot_dendrogram(model, **kwargs):\n",
        "    # Create linkage matrix and then plot the dendrogram\n",
        "\n",
        "    # create the counts of samples under each node\n",
        "    counts = np.zeros(model.children_.shape[0])\n",
        "    n_samples = len(model.labels_)\n",
        "    for i, merge in enumerate(model.children_):\n",
        "        current_count = 0\n",
        "        for child_idx in merge:\n",
        "            if child_idx < n_samples:\n",
        "                current_count += 1  # leaf node\n",
        "            else:\n",
        "                current_count += counts[child_idx - n_samples]\n",
        "        counts[i] = current_count\n",
        "\n",
        "    linkage_matrix = np.column_stack([model.children_, model.distances_,\n",
        "                                      counts]).astype(float)\n",
        "\n",
        "    # Plot the corresponding dendrogram\n",
        "    fig, ax = plt.subplots(figsize=(20, 10))  # set size\n",
        "    ax = dendrogram(linkage_matrix, **kwargs, leaf_font_size=11.)"
      ],
      "execution_count": null,
      "outputs": []
    },
    {
      "cell_type": "code",
      "metadata": {
        "id": "74tBy34C5gOm"
      },
      "source": [
        "plot_dendrogram(clustering, truncate_mode='level', p=6)"
      ],
      "execution_count": null,
      "outputs": []
    }
  ]
}